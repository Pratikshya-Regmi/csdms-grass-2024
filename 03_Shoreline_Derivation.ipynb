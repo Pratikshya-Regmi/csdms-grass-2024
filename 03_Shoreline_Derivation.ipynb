{
 "cells": [
  {
   "cell_type": "markdown",
   "id": "f43c3a3b-26a4-4bc9-962a-25b9cbffbe50",
   "metadata": {},
   "source": [
    "Notebook 4: Dune Migration\n",
    "Animating changes in topography over time and computing erosion rates\n"
   ]
  },
  {
   "cell_type": "code",
   "execution_count": null,
   "id": "3f33c69b-f156-430f-857b-6eea8cc05f46",
   "metadata": {},
   "outputs": [],
   "source": [
    "# Purpose: Use r.contour to extract contour.\n",
    "# l is the shoreline proxy elevation\n",
    "# c is the threshold to exclude small anomalies\n",
    "l = 0.8\n",
    "c = 400\n",
    "dates = [19961016, 19971002, 19980907, 19990909,\n",
    "19990918, 2001, 20040925, 20051126, 20080327]\n",
    "for date in dates:\n",
    "rast = ’NH_’+str(date)+’_1m’\n",
    "grass.run_commands( ’r.contour’, input=rast,\n",
    "output="
   ]
  },
  {
   "cell_type": "code",
   "execution_count": null,
   "id": "ac1a850f-802b-4d59-8ebc-64326bab622a",
   "metadata": {},
   "outputs": [],
   "source": [
    "# Purpose: Smooth extracted shoreline.\n",
    "v.generalize input=NH_2008_08m output=NH_2008_08m_sm \\\n",
    "method=sliding_averaging threshold=0 look_ahead=51"
   ]
  },
  {
   "cell_type": "code",
   "execution_count": null,
   "id": "b2b8e013-02d3-41b6-9f96-daeaadc4499c",
   "metadata": {},
   "outputs": [],
   "source": [
    "# visualization"
   ]
  }
 ],
 "metadata": {
  "kernelspec": {
   "display_name": "Python 3 (ipykernel)",
   "language": "python",
   "name": "python3"
  },
  "language_info": {
   "codemirror_mode": {
    "name": "ipython",
    "version": 3
   },
   "file_extension": ".py",
   "mimetype": "text/x-python",
   "name": "python",
   "nbconvert_exporter": "python",
   "pygments_lexer": "ipython3",
   "version": "3.8.10"
  }
 },
 "nbformat": 4,
 "nbformat_minor": 5
}
