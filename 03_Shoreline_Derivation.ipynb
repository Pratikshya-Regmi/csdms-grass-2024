{
 "cells": [
  {
   "cell_type": "markdown",
   "id": "f43c3a3b-26a4-4bc9-962a-25b9cbffbe50",
   "metadata": {},
   "source": [
    "# Notebook 4: Shoreline Derivation\n"
   ]
  },
  {
   "cell_type": "markdown",
   "id": "e83f37d1-2a56-48fc-a59b-91339c812f57",
   "metadata": {},
   "source": [
    "***\n",
    "\n",
    "## 1. Import Python Packages"
   ]
  },
  {
   "cell_type": "code",
   "execution_count": 1,
   "id": "d0bfae52-422a-4ba4-859f-c170a4b84034",
   "metadata": {},
   "outputs": [],
   "source": [
    "# Import Python standard library and IPython packages we need.\n",
    "import os\n",
    "import sys\n",
    "import subprocess\n",
    "from IPython.display import Image\n",
    "\n",
    "# Ask GRASS GIS where its Python packages are.\n",
    "grass_call = \"grass83\"\n",
    "sys.path.append(\n",
    "    subprocess.check_output([grass_call, \"--config\", \"python_path\"], text=True, shell=True).strip()\n",
    ")\n",
    "\n",
    "# Import the GRASS GIS packages we need.\n",
    "import grass.script as gs\n",
    "import grass.jupyter as gj\n",
    "\n"
   ]
  },
  {
   "cell_type": "markdown",
   "id": "8416c70c-a9d5-4b39-984f-e97980e412d6",
   "metadata": {},
   "source": [
    "***\n",
    "\n",
    "## 2. Start GRASS Session"
   ]
  },
  {
   "cell_type": "code",
   "execution_count": 2,
   "id": "bd05bb6b-1c0c-445c-8e0d-56dfa46878d7",
   "metadata": {},
   "outputs": [
    {
     "ename": "ValueError",
     "evalue": "Path 'nags_head\\PERMANENT' does not exist",
     "output_type": "error",
     "traceback": [
      "\u001b[1;31m---------------------------------------------------------------------------\u001b[0m",
      "\u001b[1;31mValueError\u001b[0m                                Traceback (most recent call last)",
      "Cell \u001b[1;32mIn[2], line 1\u001b[0m\n\u001b[1;32m----> 1\u001b[0m \u001b[43mgj\u001b[49m\u001b[38;5;241;43m.\u001b[39;49m\u001b[43minit\u001b[49m\u001b[43m(\u001b[49m\u001b[38;5;124;43m\"\u001b[39;49m\u001b[38;5;124;43m./nags_head/PERMANENT\u001b[39;49m\u001b[38;5;124;43m\"\u001b[39;49m\u001b[43m)\u001b[49m;\n",
      "File \u001b[1;32mC:\\Program Files\\GRASS GIS 8.3\\etc\\python\\grass\\jupyter\\setup.py:164\u001b[0m, in \u001b[0;36minit\u001b[1;34m(path, location, mapset, grass_path)\u001b[0m\n\u001b[0;32m    161\u001b[0m \u001b[38;5;28;01mglobal\u001b[39;00m _global_session_handle  \u001b[38;5;66;03m# pylint: disable=global-statement,invalid-name\u001b[39;00m\n\u001b[0;32m    162\u001b[0m \u001b[38;5;28;01mif\u001b[39;00m \u001b[38;5;129;01mnot\u001b[39;00m _global_session_handle \u001b[38;5;129;01mor\u001b[39;00m \u001b[38;5;129;01mnot\u001b[39;00m _global_session_handle\u001b[38;5;241m.\u001b[39mactive:\n\u001b[0;32m    163\u001b[0m     \u001b[38;5;66;03m# Create a GRASS session.\u001b[39;00m\n\u001b[1;32m--> 164\u001b[0m     \u001b[43mgs\u001b[49m\u001b[38;5;241;43m.\u001b[39;49m\u001b[43msetup\u001b[49m\u001b[38;5;241;43m.\u001b[39;49m\u001b[43minit\u001b[49m\u001b[43m(\u001b[49m\u001b[43mpath\u001b[49m\u001b[43m,\u001b[49m\u001b[43m \u001b[49m\u001b[43mlocation\u001b[49m\u001b[38;5;241;43m=\u001b[39;49m\u001b[43mlocation\u001b[49m\u001b[43m,\u001b[49m\u001b[43m \u001b[49m\u001b[43mmapset\u001b[49m\u001b[38;5;241;43m=\u001b[39;49m\u001b[43mmapset\u001b[49m\u001b[43m,\u001b[49m\u001b[43m \u001b[49m\u001b[43mgrass_path\u001b[49m\u001b[38;5;241;43m=\u001b[39;49m\u001b[43mgrass_path\u001b[49m\u001b[43m)\u001b[49m\n\u001b[0;32m    165\u001b[0m     \u001b[38;5;66;03m# Set defaults for environmental variables and library.\u001b[39;00m\n\u001b[0;32m    166\u001b[0m     _set_notebook_defaults()\n",
      "File \u001b[1;32mC:\\Program Files\\GRASS GIS 8.3\\etc\\python\\grass\\script\\setup.py:321\u001b[0m, in \u001b[0;36minit\u001b[1;34m(path, location, mapset, grass_path)\u001b[0m\n\u001b[0;32m    319\u001b[0m \u001b[38;5;66;03m# A simple existence test. The directory, whatever it is, should exist.\u001b[39;00m\n\u001b[0;32m    320\u001b[0m \u001b[38;5;28;01mif\u001b[39;00m \u001b[38;5;129;01mnot\u001b[39;00m path\u001b[38;5;241m.\u001b[39mexists():\n\u001b[1;32m--> 321\u001b[0m     \u001b[38;5;28;01mraise\u001b[39;00m \u001b[38;5;167;01mValueError\u001b[39;00m(_(\u001b[38;5;124m\"\u001b[39m\u001b[38;5;124mPath \u001b[39m\u001b[38;5;124m'\u001b[39m\u001b[38;5;132;01m{path}\u001b[39;00m\u001b[38;5;124m'\u001b[39m\u001b[38;5;124m does not exist\u001b[39m\u001b[38;5;124m\"\u001b[39m)\u001b[38;5;241m.\u001b[39mformat(path\u001b[38;5;241m=\u001b[39mpath))\n\u001b[0;32m    322\u001b[0m \u001b[38;5;66;03m# A specific message when it exists, but it is a file.\u001b[39;00m\n\u001b[0;32m    323\u001b[0m \u001b[38;5;28;01mif\u001b[39;00m path\u001b[38;5;241m.\u001b[39mis_file():\n",
      "\u001b[1;31mValueError\u001b[0m: Path 'nags_head\\PERMANENT' does not exist"
     ]
    }
   ],
   "source": [
    "gj.init(\"./nags_head/PERMANENT\");"
   ]
  },
  {
   "cell_type": "markdown",
   "id": "c29780cc-589b-441a-b2df-adaa881ea43d",
   "metadata": {},
   "source": [
    "***\n",
    "\n",
    "## 3. Derive shorelines"
   ]
  },
  {
   "cell_type": "code",
   "execution_count": 17,
   "id": "3f33c69b-f156-430f-857b-6eea8cc05f46",
   "metadata": {},
   "outputs": [
    {
     "name": "stderr",
     "output_type": "stream",
     "text": [
      "ERROR: Raster map <NH_20080327_1m> not found\n"
     ]
    },
    {
     "ename": "CalledModuleError",
     "evalue": "Module run `r.contour input=NH_20080327_1m output=NH_20080327_08m levels=0.8 cut=400` ended with an error.\nThe subprocess ended with a non-zero return code: 1. See errors above the traceback or in the error output.",
     "output_type": "error",
     "traceback": [
      "\u001b[1;31m---------------------------------------------------------------------------\u001b[0m",
      "\u001b[1;31mCalledModuleError\u001b[0m                         Traceback (most recent call last)",
      "Cell \u001b[1;32mIn[17], line 11\u001b[0m\n\u001b[0;32m      8\u001b[0m \u001b[38;5;28;01mfor\u001b[39;00m date \u001b[38;5;129;01min\u001b[39;00m dates:\n\u001b[0;32m      9\u001b[0m     rast \u001b[38;5;241m=\u001b[39m \u001b[38;5;124m'\u001b[39m\u001b[38;5;124mNH_\u001b[39m\u001b[38;5;124m'\u001b[39m\u001b[38;5;241m+\u001b[39m\u001b[38;5;28mstr\u001b[39m(date)\u001b[38;5;241m+\u001b[39m\u001b[38;5;124m'\u001b[39m\u001b[38;5;124m_1m\u001b[39m\u001b[38;5;124m'\u001b[39m\n\u001b[1;32m---> 11\u001b[0m \u001b[43mgs\u001b[49m\u001b[38;5;241;43m.\u001b[39;49m\u001b[43mrun_command\u001b[49m\u001b[43m(\u001b[49m\u001b[43m \u001b[49m\u001b[38;5;124;43m'\u001b[39;49m\u001b[38;5;124;43mr.contour\u001b[39;49m\u001b[38;5;124;43m'\u001b[39;49m\u001b[43m,\u001b[49m\u001b[43m \u001b[49m\u001b[38;5;28;43minput\u001b[39;49m\u001b[38;5;241;43m=\u001b[39;49m\u001b[43mrast\u001b[49m\u001b[43m,\u001b[49m\n\u001b[0;32m     12\u001b[0m \u001b[43m    \u001b[49m\u001b[43moutput\u001b[49m\u001b[38;5;241;43m=\u001b[39;49m\u001b[38;5;124;43m'\u001b[39;49m\u001b[38;5;124;43mNH_\u001b[39;49m\u001b[38;5;124;43m'\u001b[39;49m\u001b[38;5;241;43m+\u001b[39;49m\u001b[38;5;28;43mstr\u001b[39;49m\u001b[43m(\u001b[49m\u001b[43mdate\u001b[49m\u001b[43m)\u001b[49m\u001b[38;5;241;43m+\u001b[39;49m\u001b[38;5;124;43m'\u001b[39;49m\u001b[38;5;124;43m_08m\u001b[39;49m\u001b[38;5;124;43m'\u001b[39;49m\u001b[43m,\u001b[49m\u001b[43m \u001b[49m\u001b[43mlevels\u001b[49m\u001b[38;5;241;43m=\u001b[39;49m\u001b[43ml\u001b[49m\u001b[43m,\u001b[49m\u001b[43mcut\u001b[49m\u001b[38;5;241;43m=\u001b[39;49m\u001b[43mc\u001b[49m\u001b[43m)\u001b[49m\n",
      "File \u001b[1;32mC:\\Program Files\\GRASS GIS 8.4\\etc\\python\\grass\\script\\core.py:474\u001b[0m, in \u001b[0;36mrun_command\u001b[1;34m(*args, **kwargs)\u001b[0m\n\u001b[0;32m    472\u001b[0m \u001b[38;5;28;01melse\u001b[39;00m:\n\u001b[0;32m    473\u001b[0m     returncode \u001b[38;5;241m=\u001b[39m ps\u001b[38;5;241m.\u001b[39mwait()\n\u001b[1;32m--> 474\u001b[0m \u001b[38;5;28;01mreturn\u001b[39;00m \u001b[43mhandle_errors\u001b[49m\u001b[43m(\u001b[49m\u001b[43mreturncode\u001b[49m\u001b[43m,\u001b[49m\u001b[43m \u001b[49m\u001b[43mresult\u001b[49m\u001b[38;5;241;43m=\u001b[39;49m\u001b[38;5;28;43;01mNone\u001b[39;49;00m\u001b[43m,\u001b[49m\u001b[43m \u001b[49m\u001b[43margs\u001b[49m\u001b[38;5;241;43m=\u001b[39;49m\u001b[43margs\u001b[49m\u001b[43m,\u001b[49m\u001b[43m \u001b[49m\u001b[43mkwargs\u001b[49m\u001b[38;5;241;43m=\u001b[39;49m\u001b[43mkwargs\u001b[49m\u001b[43m)\u001b[49m\n",
      "File \u001b[1;32mC:\\Program Files\\GRASS GIS 8.4\\etc\\python\\grass\\script\\core.py:353\u001b[0m, in \u001b[0;36mhandle_errors\u001b[1;34m(returncode, result, args, kwargs)\u001b[0m\n\u001b[0;32m    351\u001b[0m \u001b[38;5;28;01melse\u001b[39;00m:\n\u001b[0;32m    352\u001b[0m     module, code \u001b[38;5;241m=\u001b[39m get_module_and_code(args, kwargs)\n\u001b[1;32m--> 353\u001b[0m     \u001b[38;5;28;01mraise\u001b[39;00m CalledModuleError(module\u001b[38;5;241m=\u001b[39mmodule, code\u001b[38;5;241m=\u001b[39mcode, returncode\u001b[38;5;241m=\u001b[39mreturncode)\n",
      "\u001b[1;31mCalledModuleError\u001b[0m: Module run `r.contour input=NH_20080327_1m output=NH_20080327_08m levels=0.8 cut=400` ended with an error.\nThe subprocess ended with a non-zero return code: 1. See errors above the traceback or in the error output."
     ]
    }
   ],
   "source": [
    "# Purpose: Use r.contour to extract contour.\n",
    "# l is the shoreline proxy elevation\n",
    "# c is the threshold to exclude small anomalies\n",
    "l = 0.8\n",
    "c = 400\n",
    "dates = [19961016, 19971002, 19980907, 19990909, 19990918, 2001, 20040925, 20051126, 20080327]\n",
    "\n",
    "for date in dates:\n",
    "    rast = 'NH_'+str(date)+'_1m'\n",
    "    \n",
    "gs.run_command( 'r.contour', input=rast,\n",
    "    output='NH_'+str(date)+'_08m', levels=l,cut=c)"
   ]
  },
  {
   "cell_type": "markdown",
   "id": "bdef6b2d-942b-4de3-bbed-982487d311a2",
   "metadata": {},
   "source": [
    "***\n",
    "\n",
    "## 4. Smoothing extracted shorelines"
   ]
  },
  {
   "cell_type": "code",
   "execution_count": 18,
   "id": "ac1a850f-802b-4d59-8ebc-64326bab622a",
   "metadata": {},
   "outputs": [
    {
     "name": "stderr",
     "output_type": "stream",
     "text": [
      "ERROR: Vector map <NH_2008_08m> not found\n"
     ]
    }
   ],
   "source": [
    "# Purpose: Smooth extracted shoreline.\n",
    "!v.generalize input=NH_2008_08m output=NH_2008_08m_sm \\\n",
    "method=sliding_averaging threshold=0 look_ahead=51"
   ]
  },
  {
   "cell_type": "markdown",
   "id": "fe090e84-2294-4e6b-a7bf-895f16d458ff",
   "metadata": {},
   "source": [
    "***\n",
    "\n",
    "## 5. Visualization"
   ]
  },
  {
   "cell_type": "code",
   "execution_count": 19,
   "id": "b2b8e013-02d3-41b6-9f96-daeaadc4499c",
   "metadata": {},
   "outputs": [
    {
     "name": "stderr",
     "output_type": "stream",
     "text": [
      "ERROR: Raster map <NH_2008_08m_sm> not found\n",
      "ERROR: No ellipsoid info given in file PROJ_INFO in <PERMANENT>\n"
     ]
    },
    {
     "ename": "CalledModuleError",
     "evalue": "Module run `g.region -gu` ended with an error.\nThe subprocess ended with a non-zero return code: 1. See errors above the traceback or in the error output.",
     "output_type": "error",
     "traceback": [
      "\u001b[1;31m---------------------------------------------------------------------------\u001b[0m",
      "\u001b[1;31mCalledModuleError\u001b[0m                         Traceback (most recent call last)",
      "Cell \u001b[1;32mIn[19], line 3\u001b[0m\n\u001b[0;32m      1\u001b[0m \u001b[38;5;66;03m# visualization\u001b[39;00m\n\u001b[0;32m      2\u001b[0m maps \u001b[38;5;241m=\u001b[39m gj\u001b[38;5;241m.\u001b[39mMap()\n\u001b[1;32m----> 3\u001b[0m \u001b[43mmaps\u001b[49m\u001b[38;5;241;43m.\u001b[39;49m\u001b[43md_rast\u001b[49m\u001b[43m(\u001b[49m\u001b[38;5;28;43mmap\u001b[39;49m\u001b[38;5;241;43m=\u001b[39;49m\u001b[38;5;124;43m\"\u001b[39;49m\u001b[38;5;124;43mNH_2008_08m_sm\u001b[39;49m\u001b[38;5;124;43m\"\u001b[39;49m\u001b[43m)\u001b[49m\n\u001b[0;32m      4\u001b[0m maps\u001b[38;5;241m.\u001b[39md_rast(\u001b[38;5;124m\"\u001b[39m\u001b[38;5;124mdem_1999\u001b[39m\u001b[38;5;124m\"\u001b[39m)\n\u001b[0;32m      5\u001b[0m maps\u001b[38;5;241m.\u001b[39mshow()\n",
      "File \u001b[1;32mC:\\Program Files\\GRASS GIS 8.4\\etc\\python\\grass\\jupyter\\map.py:184\u001b[0m, in \u001b[0;36mMap.__getattr__.<locals>.wrapper\u001b[1;34m(**kwargs)\u001b[0m\n\u001b[0;32m    182\u001b[0m \u001b[38;5;28;01mdef\u001b[39;00m \u001b[38;5;21mwrapper\u001b[39m(\u001b[38;5;241m*\u001b[39m\u001b[38;5;241m*\u001b[39mkwargs):\n\u001b[0;32m    183\u001b[0m     \u001b[38;5;66;03m# Run module\u001b[39;00m\n\u001b[1;32m--> 184\u001b[0m     \u001b[38;5;28mself\u001b[39m\u001b[38;5;241m.\u001b[39mrun(grass_module, \u001b[38;5;241m*\u001b[39m\u001b[38;5;241m*\u001b[39mkwargs)\n",
      "File \u001b[1;32mC:\\Program Files\\GRASS GIS 8.4\\etc\\python\\grass\\jupyter\\map.py:163\u001b[0m, in \u001b[0;36mMap.run\u001b[1;34m(self, module, **kwargs)\u001b[0m\n\u001b[0;32m    161\u001b[0m \u001b[38;5;28;01mif\u001b[39;00m module[\u001b[38;5;241m0\u001b[39m] \u001b[38;5;241m==\u001b[39m \u001b[38;5;124m\"\u001b[39m\u001b[38;5;124md\u001b[39m\u001b[38;5;124m\"\u001b[39m:\n\u001b[0;32m    162\u001b[0m     \u001b[38;5;28mself\u001b[39m\u001b[38;5;241m.\u001b[39m_region_manager\u001b[38;5;241m.\u001b[39mset_region_from_command(module, \u001b[38;5;241m*\u001b[39m\u001b[38;5;241m*\u001b[39mkwargs)\n\u001b[1;32m--> 163\u001b[0m     \u001b[38;5;28;43mself\u001b[39;49m\u001b[38;5;241;43m.\u001b[39;49m\u001b[43m_region_manager\u001b[49m\u001b[38;5;241;43m.\u001b[39;49m\u001b[43madjust_rendering_size_from_region\u001b[49m\u001b[43m(\u001b[49m\u001b[43m)\u001b[49m\n\u001b[0;32m    164\u001b[0m     gs\u001b[38;5;241m.\u001b[39mrun_command(module, env\u001b[38;5;241m=\u001b[39m\u001b[38;5;28mself\u001b[39m\u001b[38;5;241m.\u001b[39m_env, \u001b[38;5;241m*\u001b[39m\u001b[38;5;241m*\u001b[39mkwargs)\n\u001b[0;32m    165\u001b[0m \u001b[38;5;28;01melse\u001b[39;00m:\n",
      "File \u001b[1;32mC:\\Program Files\\GRASS GIS 8.4\\etc\\python\\grass\\jupyter\\region.py:162\u001b[0m, in \u001b[0;36mRegionManagerFor2D.adjust_rendering_size_from_region\u001b[1;34m(self)\u001b[0m\n\u001b[0;32m    157\u001b[0m \u001b[38;5;250m\u001b[39m\u001b[38;5;124;03m\"\"\"Sets the environmental render width and height variables\u001b[39;00m\n\u001b[0;32m    158\u001b[0m \u001b[38;5;124;03mbased on the region dimensions. Only first call of this\u001b[39;00m\n\u001b[0;32m    159\u001b[0m \u001b[38;5;124;03mmethod sets the variables, subsequent calls do not adjust them.\u001b[39;00m\n\u001b[0;32m    160\u001b[0m \u001b[38;5;124;03m\"\"\"\u001b[39;00m\n\u001b[0;32m    161\u001b[0m \u001b[38;5;28;01mif\u001b[39;00m \u001b[38;5;129;01mnot\u001b[39;00m \u001b[38;5;28mself\u001b[39m\u001b[38;5;241m.\u001b[39m_size_set:\n\u001b[1;32m--> 162\u001b[0m     region \u001b[38;5;241m=\u001b[39m \u001b[43mgs\u001b[49m\u001b[38;5;241;43m.\u001b[39;49m\u001b[43mregion\u001b[49m\u001b[43m(\u001b[49m\u001b[43menv\u001b[49m\u001b[38;5;241;43m=\u001b[39;49m\u001b[38;5;28;43mself\u001b[39;49m\u001b[38;5;241;43m.\u001b[39;49m\u001b[43m_env\u001b[49m\u001b[43m)\u001b[49m\n\u001b[0;32m    163\u001b[0m     width, height \u001b[38;5;241m=\u001b[39m get_rendering_size(region, \u001b[38;5;28mself\u001b[39m\u001b[38;5;241m.\u001b[39m_width, \u001b[38;5;28mself\u001b[39m\u001b[38;5;241m.\u001b[39m_height)\n\u001b[0;32m    164\u001b[0m     \u001b[38;5;28mself\u001b[39m\u001b[38;5;241m.\u001b[39m_env[\u001b[38;5;124m\"\u001b[39m\u001b[38;5;124mGRASS_RENDER_WIDTH\u001b[39m\u001b[38;5;124m\"\u001b[39m] \u001b[38;5;241m=\u001b[39m \u001b[38;5;28mstr\u001b[39m(\u001b[38;5;28mround\u001b[39m(width))\n",
      "File \u001b[1;32mC:\\Program Files\\GRASS GIS 8.4\\etc\\python\\grass\\script\\core.py:1213\u001b[0m, in \u001b[0;36mregion\u001b[1;34m(region3d, complete, env)\u001b[0m\n\u001b[0;32m   1210\u001b[0m \u001b[38;5;28;01mif\u001b[39;00m complete:\n\u001b[0;32m   1211\u001b[0m     flgs \u001b[38;5;241m+\u001b[39m\u001b[38;5;241m=\u001b[39m \u001b[38;5;124m\"\u001b[39m\u001b[38;5;124mcep\u001b[39m\u001b[38;5;124m\"\u001b[39m\n\u001b[1;32m-> 1213\u001b[0m s \u001b[38;5;241m=\u001b[39m \u001b[43mread_command\u001b[49m\u001b[43m(\u001b[49m\u001b[38;5;124;43m\"\u001b[39;49m\u001b[38;5;124;43mg.region\u001b[39;49m\u001b[38;5;124;43m\"\u001b[39;49m\u001b[43m,\u001b[49m\u001b[43m \u001b[49m\u001b[43mflags\u001b[49m\u001b[38;5;241;43m=\u001b[39;49m\u001b[43mflgs\u001b[49m\u001b[43m,\u001b[49m\u001b[43m \u001b[49m\u001b[43menv\u001b[49m\u001b[38;5;241;43m=\u001b[39;49m\u001b[43menv\u001b[49m\u001b[43m)\u001b[49m\n\u001b[0;32m   1214\u001b[0m reg \u001b[38;5;241m=\u001b[39m parse_key_val(s, val_type\u001b[38;5;241m=\u001b[39m\u001b[38;5;28mfloat\u001b[39m)\n\u001b[0;32m   1215\u001b[0m \u001b[38;5;28;01mfor\u001b[39;00m k \u001b[38;5;129;01min\u001b[39;00m [\n\u001b[0;32m   1216\u001b[0m     \u001b[38;5;124m\"\u001b[39m\u001b[38;5;124mprojection\u001b[39m\u001b[38;5;124m\"\u001b[39m,\n\u001b[0;32m   1217\u001b[0m     \u001b[38;5;124m\"\u001b[39m\u001b[38;5;124mzone\u001b[39m\u001b[38;5;124m\"\u001b[39m,\n\u001b[1;32m   (...)\u001b[0m\n\u001b[0;32m   1224\u001b[0m     \u001b[38;5;124m\"\u001b[39m\u001b[38;5;124mdepths\u001b[39m\u001b[38;5;124m\"\u001b[39m,\n\u001b[0;32m   1225\u001b[0m ]:\n",
      "File \u001b[1;32mC:\\Program Files\\GRASS GIS 8.4\\etc\\python\\grass\\script\\core.py:541\u001b[0m, in \u001b[0;36mread_command\u001b[1;34m(*args, **kwargs)\u001b[0m\n\u001b[0;32m    537\u001b[0m \u001b[38;5;28;01mif\u001b[39;00m returncode \u001b[38;5;129;01mand\u001b[39;00m _capture_stderr \u001b[38;5;129;01mand\u001b[39;00m stderr:\n\u001b[0;32m    538\u001b[0m     \u001b[38;5;66;03m# Print only when we are capturing it and there was some output.\u001b[39;00m\n\u001b[0;32m    539\u001b[0m     \u001b[38;5;66;03m# (User can request ignoring the subprocess stderr and then we get only None.)\u001b[39;00m\n\u001b[0;32m    540\u001b[0m     sys\u001b[38;5;241m.\u001b[39mstderr\u001b[38;5;241m.\u001b[39mwrite(stderr)\n\u001b[1;32m--> 541\u001b[0m \u001b[38;5;28;01mreturn\u001b[39;00m \u001b[43mhandle_errors\u001b[49m\u001b[43m(\u001b[49m\u001b[43mreturncode\u001b[49m\u001b[43m,\u001b[49m\u001b[43m \u001b[49m\u001b[43mstdout\u001b[49m\u001b[43m,\u001b[49m\u001b[43m \u001b[49m\u001b[43margs\u001b[49m\u001b[43m,\u001b[49m\u001b[43m \u001b[49m\u001b[43mkwargs\u001b[49m\u001b[43m)\u001b[49m\n",
      "File \u001b[1;32mC:\\Program Files\\GRASS GIS 8.4\\etc\\python\\grass\\script\\core.py:353\u001b[0m, in \u001b[0;36mhandle_errors\u001b[1;34m(returncode, result, args, kwargs)\u001b[0m\n\u001b[0;32m    351\u001b[0m \u001b[38;5;28;01melse\u001b[39;00m:\n\u001b[0;32m    352\u001b[0m     module, code \u001b[38;5;241m=\u001b[39m get_module_and_code(args, kwargs)\n\u001b[1;32m--> 353\u001b[0m     \u001b[38;5;28;01mraise\u001b[39;00m CalledModuleError(module\u001b[38;5;241m=\u001b[39mmodule, code\u001b[38;5;241m=\u001b[39mcode, returncode\u001b[38;5;241m=\u001b[39mreturncode)\n",
      "\u001b[1;31mCalledModuleError\u001b[0m: Module run `g.region -gu` ended with an error.\nThe subprocess ended with a non-zero return code: 1. See errors above the traceback or in the error output."
     ]
    }
   ],
   "source": [
    "# visualization\n",
    "maps = gj.Map()\n",
    "maps.d_rast(map=\"NH_2008_08m_sm\")\n",
    "maps.d_rast(\"dem_1999\")\n",
    "maps.show()"
   ]
  },
  {
   "cell_type": "code",
   "execution_count": null,
   "id": "b521a999-d893-4477-834a-257a8539e068",
   "metadata": {},
   "outputs": [],
   "source": []
  }
 ],
 "metadata": {
  "kernelspec": {
   "display_name": "Python 3 (ipykernel)",
   "language": "python",
   "name": "python3"
  },
  "language_info": {
   "codemirror_mode": {
    "name": "ipython",
    "version": 3
   },
   "file_extension": ".py",
   "mimetype": "text/x-python",
   "name": "python",
   "nbconvert_exporter": "python",
   "pygments_lexer": "ipython3",
   "version": "3.9.5"
  }
 },
 "nbformat": 4,
 "nbformat_minor": 5
}
