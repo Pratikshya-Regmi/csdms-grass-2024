{
 "cells": [
  {
   "cell_type": "markdown",
   "id": "1d973d6b-5ac1-47c5-b5dd-bb16e7fd672e",
   "metadata": {},
   "source": [
    "# Part 5: Simple Storm Surge Inundation Modeling\n",
    "\n",
    "_**Caitlin Haedrich and Pratikshya Regmi**, North Carolina State University_\n",
    "\n",
    "\n",
    "In this example we will use some of GRASS GIS hydrology tools, namely:\n",
    "\n",
    "* [r.lake](https://grass.osgeo.org/grass-stable/manuals/r.lake.html): to fill a lake to a target water level from a given start point or seed raster\n",
    "* [r.lake.series](https://grass.osgeo.org/grass-stable/manuals/r.lake.series.html): addon which runs r.lake for different water levels\n"
   ]
  },
  {
   "cell_type": "code",
   "execution_count": null,
   "id": "4aaaa1c1-d0a9-4986-bfc5-9d8196289289",
   "metadata": {},
   "outputs": [],
   "source": [
    "# Import Python standard library and IPython packages we need.\n",
    "import subprocess\n",
    "import sys\n",
    "\n",
    "# Ask GRASS GIS where its Python packages are.\n",
    "sys.path.append(\n",
    "    subprocess.check_output([\"grass\", \"--config\", \"python_path\"], text=True).strip()\n",
    ")\n",
    "\n",
    "# Import the GRASS GIS packages we need.\n",
    "import grass.script as gs\n",
    "import grass.jupyter as gj\n",
    "\n",
    "# Start GRASS Session\n",
    "gj.init(\"nags_head/PERMANENT\")"
   ]
  },
  {
   "cell_type": "code",
   "execution_count": null,
   "id": "e122963c-85eb-4637-9f55-3cb5f1754aaa",
   "metadata": {},
   "outputs": [],
   "source": [
    "# Make a new mapset for this assignment\n",
    "gs.run_command(\"g.mapset\", mapset=\"flooding\", location=\"nags_head\", flags=\"c\")"
   ]
  },
  {
   "cell_type": "code",
   "execution_count": null,
   "id": "1963dbbe-6e52-48da-9ad4-68d382a343c7",
   "metadata": {},
   "outputs": [],
   "source": [
    "!g.extension extension=r.lake.series"
   ]
  },
  {
   "cell_type": "code",
   "execution_count": null,
   "id": "4f8e67c8-2893-4c05-a45d-3a10ac53e619",
   "metadata": {},
   "outputs": [],
   "source": [
    "r.lake.series elevation=dem_1999 output=flooding start_water_level=6 end_water_level=14 water_level_step=0.1 coordinates=??"
   ]
  },
  {
   "cell_type": "code",
   "execution_count": null,
   "id": "5520509f-faaf-4a3b-b99f-b4cb63c460a6",
   "metadata": {},
   "outputs": [],
   "source": [
    "from io import StringIO\n",
    "import pandas as pd\n",
    "\n",
    "gs.run_command(\"t.rast.colors\", input=\"flooding\", color=\"water\")\n",
    "pd.read_csv(StringIO(gs.read_command(\"t.rast.list\", input=\"flooding\", separator=\"comma\")))"
   ]
  },
  {
   "cell_type": "markdown",
   "id": "bc395ff6-e0fa-4e5b-887f-73df539f46b1",
   "metadata": {},
   "source": [
    "r.lake.series creates a space-time dataset. We can use the [temporal modules](https://grass.osgeo.org/grass-stable/manuals/temporal.html) to further work with the data. For example, we could further compute the volume and extent of flood water using t.rast.univar:"
   ]
  },
  {
   "cell_type": "code",
   "execution_count": null,
   "id": "5970af83-07bf-4f35-ac00-e36da979a5a7",
   "metadata": {},
   "outputs": [],
   "source": [
    "pd.read_csv(StringIO(gs.read_command(\"t.rast.univar\", input=\"flooding\", separator=\"comma\")))"
   ]
  },
  {
   "cell_type": "markdown",
   "id": "af541eac-3a46-4cb6-ba8d-6c3a59c3d084",
   "metadata": {},
   "source": [
    "Let's visualize the results:"
   ]
  },
  {
   "cell_type": "code",
   "execution_count": null,
   "id": "bafcf144-7c5a-4cf7-93b8-20c6a17dbaeb",
   "metadata": {},
   "outputs": [],
   "source": [
    "timemap = gj.TimeSeriesMap()\n",
    "timemap.d_rast(map=\"elevation_shade\")\n",
    "timemap.add_raster_series(\"flooding\")\n",
    "timemap.d_legend(at=(1, 40, 90, 95))\n",
    "timemap.show()"
   ]
  }
 ],
 "metadata": {
  "kernelspec": {
   "display_name": "Python 3 (ipykernel)",
   "language": "python",
   "name": "python3"
  },
  "language_info": {
   "codemirror_mode": {
    "name": "ipython",
    "version": 3
   },
   "file_extension": ".py",
   "mimetype": "text/x-python",
   "name": "python",
   "nbconvert_exporter": "python",
   "pygments_lexer": "ipython3",
   "version": "3.10.10"
  }
 },
 "nbformat": 4,
 "nbformat_minor": 5
}
