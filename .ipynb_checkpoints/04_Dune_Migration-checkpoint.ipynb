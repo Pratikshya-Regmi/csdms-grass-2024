{
 "cells": [
  {
   "cell_type": "markdown",
   "id": "126a25ee-88e1-4f1d-a445-41d8adb4f9c8",
   "metadata": {},
   "source": [
    "# Notebook 5: Dune Migration\n",
    "## Animating changes in topography over time and computing erosion rates"
   ]
  },
  {
   "cell_type": "markdown",
   "id": "c79df578-24a3-4394-b834-2d7ea947149f",
   "metadata": {},
   "source": [
    "***\n",
    "\n",
    "## 1. Import Python Packages"
   ]
  },
  {
   "cell_type": "code",
   "execution_count": 1,
   "id": "ed8f7ee8-5151-411c-9425-42e86ddc84f2",
   "metadata": {},
   "outputs": [],
   "source": [
    "# Import Python standard library and IPython packages we need.\n",
    "import os\n",
    "import sys\n",
    "import subprocess\n",
    "from IPython.display import Image\n",
    "\n",
    "# Ask GRASS GIS where its Python packages are.\n",
    "grass_call = \"grass83\"\n",
    "sys.path.append(\n",
    "    subprocess.check_output([grass_call, \"--config\", \"python_path\"], text=True, shell=True).strip()\n",
    ")\n",
    "\n",
    "# Import the GRASS GIS packages we need.\n",
    "import grass.script as gs\n",
    "import grass.jupyter as gj\n"
   ]
  },
  {
   "cell_type": "markdown",
   "id": "8829189a-6558-4767-9e32-0a9f86a953af",
   "metadata": {},
   "source": [
    "***\n",
    "\n",
    "## 2. Start GRASS Session"
   ]
  },
  {
   "cell_type": "code",
   "execution_count": 7,
   "id": "b00c3978-8265-43e5-8c60-ec64e219a4b4",
   "metadata": {},
   "outputs": [
    {
     "data": {
      "text/plain": [
       "<grass.jupyter.setup._JupyterGlobalSession at 0x19c5ee24a30>"
      ]
     },
     "execution_count": 7,
     "metadata": {},
     "output_type": "execute_result"
    }
   ],
   "source": [
    "gj.init(\"nags_head/PERMANENT\")"
   ]
  },
  {
   "cell_type": "markdown",
   "id": "0f2add8a-c76d-4411-8438-576448bbf24e",
   "metadata": {},
   "source": [
    "***\n",
    "\n",
    "## 3. Compute  DEM of Dirrerence (DoD)"
   ]
  },
  {
   "cell_type": "code",
   "execution_count": 11,
   "id": "e293b105-aa85-4253-85c8-aecde191eddd",
   "metadata": {},
   "outputs": [
    {
     "ename": "SyntaxError",
     "evalue": "invalid syntax (880463402.py, line 2)",
     "output_type": "error",
     "traceback": [
      "\u001b[1;36m  Cell \u001b[1;32mIn[11], line 2\u001b[1;36m\u001b[0m\n\u001b[1;33m    r.mapcalc \"NH_total_change = NH_2008_1m - NH_1999_1m\"\u001b[0m\n\u001b[1;37m              ^\u001b[0m\n\u001b[1;31mSyntaxError\u001b[0m\u001b[1;31m:\u001b[0m invalid syntax\n"
     ]
    }
   ],
   "source": [
    "# Purpose: Compute a DEM of Difference (DoD).\n",
    "r.mapcalc \"NH_total_change = NH_2008_1m - NH_1999_1m\"\n",
    "r.colors map=NH_total_change \n",
    "rules=color_elevation_diff.txt"
   ]
  },
  {
   "cell_type": "markdown",
   "id": "a84556b6-541e-41e4-bef7-7a04ec5c4ecc",
   "metadata": {},
   "source": [
    "***\n",
    "\n",
    "## 4. Visualization"
   ]
  },
  {
   "cell_type": "code",
   "execution_count": 4,
   "id": "c8b90c9c-f264-4c49-88e4-ae7d6b8bcb38",
   "metadata": {},
   "outputs": [],
   "source": [
    "#timeseriesmap\n",
    "timeseriesmap = gj.TimeSeriesMap()\n",
    "timseriesemap.d_rast(map=\"elevation_shade\")\n",
    "timeseriesmap.add_raster_series(\"NH_total_change\")\n",
    "timeseriesmap.d_legend(at=(1, 40, 90, 95))\n",
    "timeseriesmap.show()\n"
   ]
  },
  {
   "cell_type": "code",
   "execution_count": null,
   "id": "8cb2d17b-c28e-4b2e-b5a6-21dd7c51a0d4",
   "metadata": {},
   "outputs": [],
   "source": []
  },
  {
   "cell_type": "code",
   "execution_count": null,
   "id": "dc8fb565-f35a-4ea1-8072-dd7f19b4854d",
   "metadata": {},
   "outputs": [],
   "source": []
  }
 ],
 "metadata": {
  "kernelspec": {
   "display_name": "Python 3 (ipykernel)",
   "language": "python",
   "name": "python3"
  },
  "language_info": {
   "codemirror_mode": {
    "name": "ipython",
    "version": 3
   },
   "file_extension": ".py",
   "mimetype": "text/x-python",
   "name": "python",
   "nbconvert_exporter": "python",
   "pygments_lexer": "ipython3",
   "version": "3.9.5"
  }
 },
 "nbformat": 4,
 "nbformat_minor": 5
}
