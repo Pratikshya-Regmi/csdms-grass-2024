{
 "cells": [
  {
   "cell_type": "markdown",
   "id": "622ee68a-0283-4df8-9381-624576329238",
   "metadata": {},
   "source": [
    "# Dune Migration\n",
    "\n",
    "\n",
    "_**Caitlin Haedrich and Pratikshya Regmi**, North Carolina State University_"
   ]
  },
  {
   "cell_type": "markdown",
   "id": "569247bd-4525-4a85-8721-59c26bcbd0ab",
   "metadata": {},
   "source": [
    "***\n",
    "\n",
    "## 1. Import Python Packages and Start GRASS Session"
   ]
  },
  {
   "cell_type": "code",
   "execution_count": null,
   "id": "c5fb595e-12a9-4ede-8e0e-aa5ba6eae9e7",
   "metadata": {
    "tags": []
   },
   "outputs": [],
   "source": [
    "# Import Python standard library and IPython packages we need.\n",
    "import subprocess\n",
    "import sys\n",
    "\n",
    "# Ask GRASS GIS where its Python packages are.\n",
    "sys.path.append(\n",
    "    subprocess.check_output([\"grass\", \"--config\", \"python_path\"], text=True).strip()\n",
    ")\n",
    "\n",
    "# Import the GRASS GIS packages we need.\n",
    "import grass.script as gs\n",
    "import grass.jupyter as gj\n",
    "\n",
    "# Start GRASS Session\n",
    "gj.init(\"nags_head/PERMANENT\");\n",
    "# gj.init(\"nags_head/flooding\");"
   ]
  },
  {
   "cell_type": "code",
   "execution_count": null,
   "id": "f0542c41-2fda-4c7c-b89f-6448d62f1dbd",
   "metadata": {
    "tags": []
   },
   "outputs": [],
   "source": [
    "# Make a new mapset for this part\n",
    "gs.run_command(\"g.mapset\", mapset=\"dune_migration\", location=\"nags_head\", flags=\"c\")"
   ]
  },
  {
   "cell_type": "markdown",
   "id": "6645dd05-0032-4e10-9713-36c08b2520b3",
   "metadata": {},
   "source": [
    "Before we get started, we check the computational region."
   ]
  },
  {
   "cell_type": "code",
   "execution_count": null,
   "id": "60bf1724-3727-44f1-83a3-7b6957bacf2a",
   "metadata": {
    "tags": []
   },
   "outputs": [],
   "source": [
    "!g.region region=jockeys_ridge -p"
   ]
  },
  {
   "cell_type": "markdown",
   "id": "f70a0555-8ff9-4423-8349-9aeec056d191",
   "metadata": {},
   "source": [
    "***\n",
    "\n",
    "## 2. Getting Started with GRASS Temporal Tools"
   ]
  },
  {
   "cell_type": "code",
   "execution_count": null,
   "id": "100f09ca-47e0-40ec-9384-5481f61f7405",
   "metadata": {},
   "outputs": [],
   "source": [
    "gs.run_command('t.create', output='JockeysRidge', type='strds',\n",
    "                temporaltype='relative', title=\"Jockeys Ridge Elevation Series\",\n",
    "                description=\"from 1996 to 2020 with gaps\")"
   ]
  },
  {
   "cell_type": "code",
   "execution_count": null,
   "id": "385a1444-a96b-487f-99f9-3c01801df721",
   "metadata": {},
   "outputs": [],
   "source": [
    "dems = gs.read_command(\"g.list\", type=\"vector\", pattern=\"JR_????\", separator=\"comma\")\n",
    "dems"
   ]
  },
  {
   "cell_type": "code",
   "execution_count": null,
   "id": "41896d84-065c-4f14-a2a1-04fa29c68964",
   "metadata": {},
   "outputs": [],
   "source": [
    "gs.run_command(\"t.register\", maps=dems, input=\"JockeysRidge\", type=\"raster\", unit=\"years\")"
   ]
  },
  {
   "cell_type": "markdown",
   "id": "d096ca40-b419-4036-b83d-0633bb19c1af",
   "metadata": {},
   "source": [
    "Check what you have now in JockeysRidge dataset."
   ]
  },
  {
   "cell_type": "code",
   "execution_count": null,
   "id": "6d0afb5a-d441-4368-80ee-388c9c4c1272",
   "metadata": {},
   "outputs": [],
   "source": [
    "print(gs.read_command(\"t.rast.list\", input=\"JockeysRidge\"))"
   ]
  },
  {
   "cell_type": "markdown",
   "id": "b49f4fdc-d1cd-4b70-900b-f5ec39a5e39b",
   "metadata": {},
   "source": [
    "Set the same color table for all maps."
   ]
  },
  {
   "cell_type": "code",
   "execution_count": null,
   "id": "8c979376-d9f7-45b0-920e-10ba42d02f41",
   "metadata": {},
   "outputs": [],
   "source": [
    "gs.run_command(\"t.rast.colors\", input=\"JockeysRidge\", color=\"elevation\")"
   ]
  },
  {
   "cell_type": "markdown",
   "id": "77bfc852-83a3-4c37-9753-e9619091ab80",
   "metadata": {},
   "source": [
    "Animate the time series."
   ]
  },
  {
   "cell_type": "code",
   "execution_count": null,
   "id": "f61bb4e3-05fe-4125-8b7c-12b02e6c50cf",
   "metadata": {},
   "outputs": [],
   "source": [
    "nh_animation = gj.TimeSeriesMap()\n",
    "nh_animation.add_raster_series(\"JockeysRidge\")\n",
    "nh_animation.d_legend(color=\"black\", at=(12,72,0,3), fontsize=12)\n",
    "nh_animation.d_barscale(length=250)\n",
    "# nh_animation.show()"
   ]
  },
  {
   "cell_type": "code",
   "execution_count": null,
   "id": "f844da39-7a35-48c6-b68b-b1449a426764",
   "metadata": {
    "tags": []
   },
   "outputs": [],
   "source": [
    "timemap.save(filename=\"flood.gif\");"
   ]
  },
  {
   "cell_type": "code",
   "execution_count": null,
   "id": "0f3347f4-d02e-4756-851f-f00e0f25b9ef",
   "metadata": {
    "tags": []
   },
   "outputs": [],
   "source": [
    "from IPython.display import display, Image\n",
    "\n",
    "display(Image(filename=\"flood.gif\"))"
   ]
  }
 ],
 "metadata": {
  "kernelspec": {
   "display_name": "GRASS GIS",
   "language": "python",
   "name": "grass"
  },
  "language_info": {
   "codemirror_mode": {
    "name": "ipython",
    "version": 3
   },
   "file_extension": ".py",
   "mimetype": "text/x-python",
   "name": "python",
   "nbconvert_exporter": "python",
   "pygments_lexer": "ipython3",
   "version": "3.12.2"
  }
 },
 "nbformat": 4,
 "nbformat_minor": 5
}
