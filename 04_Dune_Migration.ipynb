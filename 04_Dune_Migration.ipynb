{
 "cells": [
  {
   "cell_type": "code",
   "execution_count": null,
   "id": "ed8f7ee8-5151-411c-9425-42e86ddc84f2",
   "metadata": {},
   "outputs": [],
   "source": [
    "TimeSeriesMap"
   ]
  },
  {
   "cell_type": "code",
   "execution_count": null,
   "id": "e293b105-aa85-4253-85c8-aecde191eddd",
   "metadata": {},
   "outputs": [],
   "source": [
    "# Purpose: Compute a DEM of Difference (DoD).\n",
    "r.mapcalc \\\n",
    "expression=’NH_total_change=NH_2008_1m-NH_1999_1m’\n",
    "r.colors map=NH_total_change \\\n",
    "rules=color_elevation_diff.txt"
   ]
  }
 ],
 "metadata": {
  "kernelspec": {
   "display_name": "Python 3 (ipykernel)",
   "language": "python",
   "name": "python3"
  },
  "language_info": {
   "codemirror_mode": {
    "name": "ipython",
    "version": 3
   },
   "file_extension": ".py",
   "mimetype": "text/x-python",
   "name": "python",
   "nbconvert_exporter": "python",
   "pygments_lexer": "ipython3",
   "version": "3.8.10"
  }
 },
 "nbformat": 4,
 "nbformat_minor": 5
}
