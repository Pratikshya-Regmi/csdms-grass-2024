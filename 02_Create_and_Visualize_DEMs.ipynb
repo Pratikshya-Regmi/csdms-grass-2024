{
 "cells": [
  {
   "cell_type": "markdown",
   "id": "e6c369d0-dbda-4512-9ea8-bb00f41a98f3",
   "metadata": {
    "tags": []
   },
   "source": [
    "# Creating and Visualizing DEMs from LIDAR points\n",
    "\n",
    "_**Caitlin Haedrich and Pratikshya Regmi**, North Carolina State University_\n",
    "\n",
    "In this notebook we will:\n",
    "* Create high-quality DEMs from LiDAR point clouds and compute topographic parameters\n",
    "* Create webmap visualizations\n"
   ]
  },
  {
   "cell_type": "markdown",
   "id": "1f3ec894-315b-4ab4-b903-bd439d6ecca9",
   "metadata": {
    "tags": []
   },
   "source": [
    "## 1. Startup"
   ]
  },
  {
   "cell_type": "markdown",
   "id": "04cff3bd-1329-4b05-b4da-33df4a5b6edc",
   "metadata": {},
   "source": [
    "Import Python standard library and IPython packages we need. Start GRASS session in Nags Head project."
   ]
  },
  {
   "cell_type": "code",
   "execution_count": 5,
   "id": "97b83952-fa74-4567-a5ac-242b3b32eec3",
   "metadata": {},
   "outputs": [],
   "source": [
    "import subprocess\n",
    "import sys\n",
    "from pathlib import Path\n",
    "\n",
    "sys.path.append(\n",
    "    subprocess.check_output([\"grass\", \"--config\", \"python_path\"], text=True, shell=False).strip()\n",
    ")\n",
    "\n",
    "import grass.script as gs\n",
    "import grass.jupyter as gj\n",
    "\n",
    "gj.init(\"./nags_head/PERMANENT\");"
   ]
  },
  {
   "cell_type": "markdown",
   "id": "72ffe71b-596f-45e7-85f6-71d6d3e0b349",
   "metadata": {},
   "source": [
    "## 2. Initial Point Cloud Analysis"
   ]
  },
  {
   "cell_type": "code",
   "execution_count": 13,
   "id": "3ced7f10-c754-4e90-a154-e665ada0ffb1",
   "metadata": {},
   "outputs": [
    {
     "data": {
      "text/plain": [
       "[PosixPath('Jockeys_Ridge_LiDAR/JR_19961016.txt'),\n",
       " PosixPath('Jockeys_Ridge_LiDAR/JR_19971002.txt'),\n",
       " PosixPath('Jockeys_Ridge_LiDAR/JR_19980907.txt'),\n",
       " PosixPath('Jockeys_Ridge_LiDAR/JR_19990909.txt'),\n",
       " PosixPath('Jockeys_Ridge_LiDAR/JR_19990918.txt'),\n",
       " PosixPath('Jockeys_Ridge_LiDAR/JR_19991104.txt'),\n",
       " PosixPath('Jockeys_Ridge_LiDAR/JR_2001.txt'),\n",
       " PosixPath('Jockeys_Ridge_LiDAR/JR_20040925.txt'),\n",
       " PosixPath('Jockeys_Ridge_LiDAR/JR_20051126.txt'),\n",
       " PosixPath('Jockeys_Ridge_LiDAR/JR_2007.txt'),\n",
       " PosixPath('Jockeys_Ridge_LiDAR/JR_20080327.txt')]"
      ]
     },
     "execution_count": 13,
     "metadata": {},
     "output_type": "execute_result"
    }
   ],
   "source": [
    "lidar_files = sorted(Path('./Jockeys_Ridge_LiDAR/').glob('*.txt'))\n",
    "lidar_files"
   ]
  },
  {
   "cell_type": "markdown",
   "id": "86b9a408-92e8-4d4c-8542-d0f98dc4e8af",
   "metadata": {},
   "source": [
    "TODO: switch to pandas or something nicer than using strings to make a table..."
   ]
  },
  {
   "cell_type": "code",
   "execution_count": null,
   "id": "32e950ff-c861-4241-9dee-dd1b4709a7ae",
   "metadata": {},
   "outputs": [],
   "source": [
    "gs.run_command(\"g.region\", raster=\"naip_2014\")\n",
    "    \n",
    "report = \"date\\tres\\tn\\trange\\n\"\n",
    "\n",
    "resolutions=[ 0.5, 2, 5, 10 ]\n",
    "\n",
    "for f in files:\n",
    "    report += f + \"\\n\"\n",
    "    for res in resolutions:\n",
    "        report += \"\\t\" + str(res) + \"\\t\"\n",
    "\n",
    "        # Set the resolution.\n",
    "        gs.run_command(\"g.region\", res=res)\n",
    "        \n",
    "        # Get the per cell count.\n",
    "        gs.run_command(\n",
    "            \"r.in.xyz\",\n",
    "            input=f,\n",
    "            output=\"JR_stats_n\",\n",
    "            method=\"n\",\n",
    "            fs=\",\",\n",
    "            overwrite=True\n",
    "        )\n",
    "        gs.run_command(\n",
    "            \"r.null\",\n",
    "            map=\"JR_stats_n\",\n",
    "            setnull=0\n",
    "        )\n",
    "        \n",
    "        # Get the mean per cell count.\n",
    "        stats = gs.parse_command(\"r.univar\", flags=\"ge\", map=\"JR_stats_n\")\n",
    "        report += str(stats[\"mean\"]) + \"\\t\"\n",
    "        \n",
    "        # Get the per cell range.\n",
    "        gs.run_command(\n",
    "            \"r.in.xyz\",\n",
    "            input=f,\n",
    "            output=\"JR_stats_range\",\n",
    "            method=\"range\",\n",
    "            fs=\",\",\n",
    "            overwrite=True\n",
    "        )\n",
    "        gs.run_command(\n",
    "            \"r.mapcalc\",\n",
    "            expression=\"JR_stats_range_c=if(isnull(JR_stats_n), null(), JR_stats_range)\",\n",
    "            overwrite=True\n",
    "        )\n",
    "        \n",
    "        # Get the mean per cell range.\n",
    "        stats = gs.parse_command(\n",
    "            \"r.univar\",\n",
    "            flags=\"ge\",\n",
    "            map=\"JR_stats_range_c\"\n",
    "        )\n",
    "        report += str(stats[\"mean\"]) + \"\\n\"\n",
    "print(report)"
   ]
  },
  {
   "cell_type": "markdown",
   "id": "83fcb778-3c1a-49e8-8f64-33731d729e56",
   "metadata": {},
   "source": [
    "## 3. Creating DEMs"
   ]
  },
  {
   "cell_type": "markdown",
   "id": "af994bc2-3955-4f0b-a862-a3368024702b",
   "metadata": {},
   "source": [
    "### Mask low density areas"
   ]
  },
  {
   "cell_type": "markdown",
   "id": "3d16eb35-3f35-4fd9-b910-10047c4ec147",
   "metadata": {},
   "source": [
    "### Binning vs Spline"
   ]
  },
  {
   "cell_type": "code",
   "execution_count": null,
   "id": "bdf5aaa4-e45f-4e31-a9e3-04a0139bac3c",
   "metadata": {},
   "outputs": [],
   "source": []
  },
  {
   "cell_type": "markdown",
   "id": "3c1b40c9-e98a-4281-8b45-dd638ff9d569",
   "metadata": {},
   "source": [
    "TODO: Do we need the systematic error correction part?"
   ]
  }
 ],
 "metadata": {
  "kernelspec": {
   "display_name": "Python 3 (ipykernel)",
   "language": "python",
   "name": "python3"
  },
  "language_info": {
   "codemirror_mode": {
    "name": "ipython",
    "version": 3
   },
   "file_extension": ".py",
   "mimetype": "text/x-python",
   "name": "python",
   "nbconvert_exporter": "python",
   "pygments_lexer": "ipython3",
   "version": "3.8.10"
  }
 },
 "nbformat": 4,
 "nbformat_minor": 5
}
