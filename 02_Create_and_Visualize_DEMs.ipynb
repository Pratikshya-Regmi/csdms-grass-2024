{
 "cells": [
  {
   "cell_type": "markdown",
   "id": "e6c369d0-dbda-4512-9ea8-bb00f41a98f3",
   "metadata": {
    "tags": []
   },
   "source": [
    "# Creating and Visualizing DEMs from LIDAR points\n",
    "\n",
    "_**Caitlin Haedrich and Pratikshya Regmi**, North Carolina State University_\n",
    "\n",
    "In this notebook we will:\n",
    "* Create high-quality DEMs from LiDAR point clouds and compute topographic parameters\n",
    "* Create webmap visualizations\n"
   ]
  },
  {
   "cell_type": "markdown",
   "id": "1f3ec894-315b-4ab4-b903-bd439d6ecca9",
   "metadata": {
    "tags": []
   },
   "source": [
    "***\n",
    "\n",
    "## 1. Import Python Packages and Start GRASS GIS Session"
   ]
  },
  {
   "cell_type": "markdown",
   "id": "04cff3bd-1329-4b05-b4da-33df4a5b6edc",
   "metadata": {},
   "source": [
    "Import Python standard library and IPython packages we need. Start GRASS session in Nags Head project."
   ]
  },
  {
   "cell_type": "code",
   "execution_count": null,
   "id": "97b83952-fa74-4567-a5ac-242b3b32eec3",
   "metadata": {
    "tags": []
   },
   "outputs": [],
   "source": [
    "import subprocess\n",
    "import sys\n",
    "from pathlib import Path\n",
    "\n",
    "sys.path.append(\n",
    "    subprocess.check_output([\"grass\", \"--config\", \"python_path\"], text=True, shell=False).strip()\n",
    ")\n",
    "\n",
    "import grass.script as gs\n",
    "import grass.jupyter as gj\n",
    "\n",
    "gj.init(\"./nags_head/PERMANENT\");"
   ]
  },
  {
   "cell_type": "code",
   "execution_count": null,
   "id": "b38ef6ff-7dfd-4060-b8fa-977816420b27",
   "metadata": {
    "tags": []
   },
   "outputs": [],
   "source": [
    "!g.region -p"
   ]
  },
  {
   "cell_type": "markdown",
   "id": "03817c6f-0dc3-42a1-b35e-44683899418a",
   "metadata": {},
   "source": [
    "**Try it yourself!**\n",
    "\n",
    "_Did you modify the computational region at the end of the previous notebook? If so, note if those changes are reflected in this notebook. Use `g.region` to switch back to the `jockeys_ridge` saved region._"
   ]
  },
  {
   "cell_type": "code",
   "execution_count": null,
   "id": "f602fcd9-0115-4a31-a8ab-11504dea5973",
   "metadata": {},
   "outputs": [],
   "source": []
  },
  {
   "cell_type": "markdown",
   "id": "dbd479b7-7ab8-4210-b145-c3e7c8110369",
   "metadata": {},
   "source": [
    "<details>\n",
    "    <summary>👉 <b>click for solution</b></summary>\n",
    "    \n",
    "The computational region is saved in the mapset so moving to a new notebook or starting a new session will not affect it.\n",
    "```\n",
    "!g.region -p region=jockeys_ridge\n",
    "```\n",
    "</details>"
   ]
  },
  {
   "cell_type": "markdown",
   "id": "83fcb778-3c1a-49e8-8f64-33731d729e56",
   "metadata": {},
   "source": [
    "***\n",
    "\n",
    "## 2. Create a DEM "
   ]
  },
  {
   "cell_type": "code",
   "execution_count": null,
   "id": "3ced7f10-c754-4e90-a154-e665ada0ffb1",
   "metadata": {
    "tags": []
   },
   "outputs": [],
   "source": [
    "lidar_files = sorted(Path('/data/grass-workshop').glob('*.las'))\n",
    "lidar_files"
   ]
  },
  {
   "cell_type": "markdown",
   "id": "af994bc2-3955-4f0b-a862-a3368024702b",
   "metadata": {},
   "source": [
    "### Mask low density areas\n",
    "\n",
    "Interpolating a DEM from LiDAR points is only meaningful where there are adequate point coverage. So, our first step will be to mask areas that have low point densities before we interpolate. This also will make our interpolation run faster!"
   ]
  },
  {
   "cell_type": "code",
   "execution_count": null,
   "id": "b1350c0a-b0ae-46a9-9d70-8b21d8111144",
   "metadata": {
    "tags": []
   },
   "outputs": [],
   "source": [
    "!g.region region=\"jockeys_ridge\" res=5"
   ]
  },
  {
   "cell_type": "code",
   "execution_count": null,
   "id": "f8e59307-aeb2-4c83-9527-ff05a7faf6b0",
   "metadata": {},
   "outputs": [],
   "source": [
    "gs.run_command(\"r.in.pdal\", input=\"/data/grass-workshop/JR_2014.las\", output=\"JR_2014_count\", method=\"n\", flags=\"w\")\n",
    "gs.mapcalc(exp=\"JR_2014_mask=if(JR_2014_count == 0, null(), 1 )\")"
   ]
  },
  {
   "cell_type": "code",
   "execution_count": null,
   "id": "21e792ff-122c-4ed0-98d0-c8554fc165d5",
   "metadata": {},
   "outputs": [],
   "source": [
    "mask = gj.Map(use_region=True)\n",
    "mask.d_rgb(red=\"naip_2014.1\", green=\"naip_2014.2\", blue=\"naip_2014.3\")\n",
    "mask.d_rast(map=\"JR_2014_mask\")\n",
    "mask.show()"
   ]
  },
  {
   "cell_type": "code",
   "execution_count": null,
   "id": "3d7734fe-2081-4d11-929d-b03b6d1cfcf0",
   "metadata": {},
   "outputs": [],
   "source": [
    "!g.region res=0.5 # why do we change the resolution here?\n",
    "!r.mask raster=JR_2014_mask"
   ]
  },
  {
   "cell_type": "markdown",
   "id": "3d16eb35-3f35-4fd9-b910-10047c4ec147",
   "metadata": {},
   "source": [
    "### Create DEM with Binning"
   ]
  },
  {
   "cell_type": "code",
   "execution_count": null,
   "id": "1f119513-f823-4fec-9d03-27afe44c80d4",
   "metadata": {},
   "outputs": [],
   "source": [
    "# Binning\n",
    "!g.region res=2"
   ]
  },
  {
   "cell_type": "code",
   "execution_count": null,
   "id": "eaed0a3a-cfe5-41f0-b9a9-6df3a473974e",
   "metadata": {},
   "outputs": [],
   "source": [
    "gs.run_command(\"r.in.pdal\", input=\"/data/grass-workshop/JR_2014.las\", output=\"JR_2014\", method=\"mean\", flags=\"w\")"
   ]
  },
  {
   "cell_type": "code",
   "execution_count": null,
   "id": "48f92bc1-a070-4d9c-b210-f262b99123e3",
   "metadata": {},
   "outputs": [],
   "source": [
    "!r.mask -r"
   ]
  },
  {
   "cell_type": "markdown",
   "id": "e53e9ae2-3291-4b70-a3da-06e217f755a8",
   "metadata": {},
   "source": [
    "For you can also compute DEMs with a higher resolution than the point sampling distance using splines with either the [v.surf.rst](https://grass.osgeo.org/grass83/manuals/v.surf.rst.html) or [v.surf.bspline](https://grass.osgeo.org/grass83/manuals/v.surf.bspline.html) tools.\n",
    "\n",
    "See Section 2.3.3 of [Hardin et al (2014)](https://link.springer.com/chapter/10.1007/978-1-4939-1835-5_2#Sec3) for more."
   ]
  },
  {
   "cell_type": "markdown",
   "id": "86254dad-a2cc-4571-8c32-a3a9dff2d12b",
   "metadata": {
    "tags": []
   },
   "source": [
    "### Visualize DEM"
   ]
  },
  {
   "cell_type": "markdown",
   "id": "79469cf6-8d29-4758-838b-7ff256ac1d22",
   "metadata": {},
   "source": [
    "_A static map made with_ `gj.Map`."
   ]
  },
  {
   "cell_type": "code",
   "execution_count": null,
   "id": "4e1dff38-f2fa-4540-95ef-cf4b188007fe",
   "metadata": {},
   "outputs": [],
   "source": [
    "elev = gj.Map()\n",
    "elev.d_rast(map=\"JR_2014\")\n",
    "elev.show()"
   ]
  },
  {
   "cell_type": "markdown",
   "id": "53ba76bc-1203-49fa-a2c4-24e0bc06884a",
   "metadata": {},
   "source": [
    "_A leaflet map made with_ `gj.InteractiveMap()`"
   ]
  },
  {
   "cell_type": "code",
   "execution_count": null,
   "id": "7623d985-e517-469a-82b9-d7b93c823928",
   "metadata": {},
   "outputs": [],
   "source": [
    "fig = gj.InteractiveMap(width=800, tiles=\"OpenStreetMap\")\n",
    "fig.add_raster(\"JR_2014\")\n",
    "fig.add_layer_control()\n",
    "fig.show()"
   ]
  },
  {
   "cell_type": "markdown",
   "id": "9182a8ac-2a6a-4a85-a57a-de2b09809953",
   "metadata": {},
   "source": [
    "### Create DEM with Splining"
   ]
  },
  {
   "cell_type": "code",
   "execution_count": null,
   "id": "f6088012-8b87-4e85-abb8-523321d626fd",
   "metadata": {
    "tags": []
   },
   "outputs": [],
   "source": [
    "!g.region -p res=2 grow=-200"
   ]
  },
  {
   "cell_type": "code",
   "execution_count": null,
   "id": "1234d6b4-c307-4660-a66e-c119c8511184",
   "metadata": {
    "tags": []
   },
   "outputs": [],
   "source": [
    "gs.run_command(\"v.in.pdal\", input=\"/data/grass-workshop/JR_2014.las\", output=\"JR_2014\", flags=\"wrc\")"
   ]
  },
  {
   "cell_type": "code",
   "execution_count": null,
   "id": "3b2f654a-7957-4820-9ff7-7420eb37b6e5",
   "metadata": {
    "tags": []
   },
   "outputs": [],
   "source": [
    "# Interpolate using RST\n",
    "gs.run_command(\"v.surf.rst\", input=\"JR_2014\", elev=\"JR_2014_spline\", tension=40, npmin=100, segmax=15, dmin=2, mask=\"JR_2014_mask\")"
   ]
  },
  {
   "cell_type": "code",
   "execution_count": null,
   "id": "cafb045a-4d83-46da-9adf-8d836729df2d",
   "metadata": {
    "tags": []
   },
   "outputs": [],
   "source": [
    "!r.colors map=JR_2014 color=elevation\n",
    "\n",
    "fig = gj.InteractiveMap(width=800, tiles=\"OpenStreetMap\")\n",
    "fig.add_raster(\"JR_2014_spline\")\n",
    "fig.add_raster(\"JR_2014\")\n",
    "fig.add_layer_control()\n",
    "fig.show()"
   ]
  },
  {
   "cell_type": "markdown",
   "id": "68fc8937-9135-4a2d-8273-a604040b5d77",
   "metadata": {},
   "source": [
    "**Try it yourself!**\n",
    "\n",
    "`v.surf.rst` _is a power tool for interpolating LiDAR surfaces [(Mitasova et al, 2005)](https://ieeexplore.ieee.org/document/1522204). Look at the documentation for v.surf.rst and adjust the parameters to see how they affect the DEM. What happens if you change the resolution of the computational region?_"
   ]
  },
  {
   "cell_type": "code",
   "execution_count": null,
   "id": "fa605e2b-5270-4b8e-90eb-7a2c8818e3e4",
   "metadata": {},
   "outputs": [],
   "source": []
  },
  {
   "cell_type": "markdown",
   "id": "468f5a97-f78a-4ab1-8c1d-dab65b1df09f",
   "metadata": {},
   "source": [
    "<details>\n",
    "    <summary>👉 <b>click to see an example</b></summary>\n",
    "\n",
    "```\n",
    "! v.surf.rst --help\n",
    "``` \n",
    "    \n",
    "```python\n",
    "gs.run_command(\"v.surf.rst\", input=\"JR_2014\", elev=\"JR_2014_spline\", tension=10, smooth=0)\n",
    "```\n",
    "</details>"
   ]
  },
  {
   "cell_type": "markdown",
   "id": "065f5db0-851c-491e-b7e4-1f2c9d3446bb",
   "metadata": {
    "tags": []
   },
   "source": [
    "## 3. Bulk DEM Creation with Python"
   ]
  },
  {
   "cell_type": "markdown",
   "id": "1e9b2329-410e-4ce6-a23e-763c3a44cb7b",
   "metadata": {},
   "source": [
    "We'll use binning for this since it's faster."
   ]
  },
  {
   "cell_type": "code",
   "execution_count": null,
   "id": "9966c44e-c50c-48d5-bad8-528f2355e7e1",
   "metadata": {
    "tags": []
   },
   "outputs": [],
   "source": [
    "print(lidar_files)"
   ]
  },
  {
   "cell_type": "code",
   "execution_count": null,
   "id": "9931f8de-473c-45d9-a865-fdce87155ba6",
   "metadata": {},
   "outputs": [],
   "source": [
    "for file in lidar_files:\n",
    "    gs.run_command(\"g.region\", region=\"jockeys_ridge\", res=5)\n",
    "    \n",
    "    # Create density mask\n",
    "    output_name = file.stem\n",
    "    gs.run_command(\"r.in.pdal\", input=file, output=output_name+'_count', method=\"n\", flags=\"w\")\n",
    "    gs.mapcalc(exp=f\"{output_name}_mask=if({output_name}_count == 0, null(), 1 )\")\n",
    "    \n",
    "    # Set Mask\n",
    "    gs.run_command(\"g.region\", res=0.5) # why do we change the resolution here?\n",
    "    gs.run_command(\"r.mask\", raster=f\"{output_name}_mask\")\n",
    "\n",
    "    # Binning\n",
    "    gs.run_command(\"g.region\", res=3) # set resolution\n",
    "    gs.run_command(\"r.in.pdal\", input=file, output=output_name, method=\"mean\", flags=\"w\") #create binned raster\n",
    "    gs.run_command(\"r.mask\", flags=\"r\") # remove mask\n",
    "    print(f\"imported {file.stem}\")"
   ]
  }
 ],
 "metadata": {
  "kernelspec": {
   "display_name": "GRASS GIS",
   "language": "python",
   "name": "grass"
  },
  "language_info": {
   "codemirror_mode": {
    "name": "ipython",
    "version": 3
   },
   "file_extension": ".py",
   "mimetype": "text/x-python",
   "name": "python",
   "nbconvert_exporter": "python",
   "pygments_lexer": "ipython3",
   "version": "3.12.2"
  }
 },
 "nbformat": 4,
 "nbformat_minor": 5
}
