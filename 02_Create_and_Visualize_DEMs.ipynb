{
 "cells": [
  {
   "cell_type": "markdown",
   "id": "e6c369d0-dbda-4512-9ea8-bb00f41a98f3",
   "metadata": {
    "tags": []
   },
   "source": [
    "# Creating and Visualizing DEMs from LIDAR points\n",
    "\n",
    "_**Caitlin Haedrich and Pratikshya Regmi**, North Carolina State University_\n",
    "\n",
    "In this notebook we will:\n",
    "* Create high-quality DEMs from LiDAR point clouds and compute topographic parameters\n",
    "* Create webmap visualizations\n"
   ]
  },
  {
   "cell_type": "markdown",
   "id": "1f3ec894-315b-4ab4-b903-bd439d6ecca9",
   "metadata": {
    "tags": []
   },
   "source": [
    "## 1. Startup"
   ]
  },
  {
   "cell_type": "markdown",
   "id": "04cff3bd-1329-4b05-b4da-33df4a5b6edc",
   "metadata": {},
   "source": [
    "Import Python standard library and IPython packages we need. Start GRASS session in Nags Head project."
   ]
  },
  {
   "cell_type": "code",
   "execution_count": 9,
   "id": "97b83952-fa74-4567-a5ac-242b3b32eec3",
   "metadata": {
    "tags": []
   },
   "outputs": [],
   "source": [
    "import subprocess\n",
    "import sys\n",
    "from pathlib import Path\n",
    "\n",
    "sys.path.append(\n",
    "    subprocess.check_output([\"grass\", \"--config\", \"python_path\"], text=True, shell=False).strip()\n",
    ")\n",
    "\n",
    "import grass.script as gs\n",
    "import grass.jupyter as gj\n",
    "\n",
    "gj.init(\"./nags_head/PERMANENT\");"
   ]
  },
  {
   "cell_type": "code",
   "execution_count": 10,
   "id": "b38ef6ff-7dfd-4060-b8fa-977816420b27",
   "metadata": {
    "tags": []
   },
   "outputs": [
    {
     "name": "stdout",
     "output_type": "stream",
     "text": [
      "projection: 99 (NAD83(HARN) / North Carolina)\n",
      "zone:       0\n",
      "datum:      nad83harn\n",
      "ellipsoid:  grs80\n",
      "north:      250984\n",
      "south:      249364\n",
      "west:       912140\n",
      "east:       914462\n",
      "nsres:      1\n",
      "ewres:      1\n",
      "rows:       1620\n",
      "cols:       2322\n",
      "cells:      3761640\n"
     ]
    }
   ],
   "source": [
    "!g.region -p"
   ]
  },
  {
   "cell_type": "markdown",
   "id": "83fcb778-3c1a-49e8-8f64-33731d729e56",
   "metadata": {},
   "source": [
    "## 3. Creating DEMs"
   ]
  },
  {
   "cell_type": "code",
   "execution_count": null,
   "id": "3ced7f10-c754-4e90-a154-e665ada0ffb1",
   "metadata": {
    "tags": []
   },
   "outputs": [],
   "source": [
    "lidar_files = sorted(Path('./Jockeys_Ridge_LiDAR/').glob('*.txt'))\n",
    "lidar_files"
   ]
  },
  {
   "cell_type": "markdown",
   "id": "af994bc2-3955-4f0b-a862-a3368024702b",
   "metadata": {},
   "source": [
    "### Mask low density areas\n",
    "\n",
    "Interpolating a DEM from LiDAR points is only meaningful where there are adequate point coverage. So, our first step will be to mask areas that have low point densities before we interpolate. This also will make our interpolation run faster!"
   ]
  },
  {
   "cell_type": "code",
   "execution_count": null,
   "id": "b1350c0a-b0ae-46a9-9d70-8b21d8111144",
   "metadata": {
    "tags": []
   },
   "outputs": [],
   "source": [
    "!g.region raster=\"naip_2020.1\" res=5"
   ]
  },
  {
   "cell_type": "code",
   "execution_count": null,
   "id": "10729f90-a493-4eb8-9c7b-42a14c017195",
   "metadata": {
    "tags": []
   },
   "outputs": [],
   "source": [
    "gs.run_command(\"r.in.xyz\", input=lidar_files[0], output=\"dem_1999_raw\", method=\"n\", fs=\",\")\n",
    "gs.mapcalc(exp=\"dem_1999_mask=if(dem_1999_raw == 0, null(), 1 )\")"
   ]
  },
  {
   "cell_type": "code",
   "execution_count": null,
   "id": "21e792ff-122c-4ed0-98d0-c8554fc165d5",
   "metadata": {},
   "outputs": [],
   "source": [
    "mask = gj.Map()\n",
    "mask.d_rgb(red=\"naip_2020.1\", green=\"naip_2020.2\", blue=\"naip_2020.3\")\n",
    "mask.d_rast(map=\"dem_1999_mask\")\n",
    "mask.show()"
   ]
  },
  {
   "cell_type": "code",
   "execution_count": null,
   "id": "3d7734fe-2081-4d11-929d-b03b6d1cfcf0",
   "metadata": {},
   "outputs": [],
   "source": [
    "!g.region res=0.5\n",
    "!r.mask raster=dem_1999_mask"
   ]
  },
  {
   "cell_type": "markdown",
   "id": "3d16eb35-3f35-4fd9-b910-10047c4ec147",
   "metadata": {},
   "source": [
    "### Creating DEMs with Binning"
   ]
  },
  {
   "cell_type": "code",
   "execution_count": null,
   "id": "1f119513-f823-4fec-9d03-27afe44c80d4",
   "metadata": {},
   "outputs": [],
   "source": [
    "# Binning\n",
    "!g.region res=2"
   ]
  },
  {
   "cell_type": "code",
   "execution_count": null,
   "id": "eaed0a3a-cfe5-41f0-b9a9-6df3a473974e",
   "metadata": {},
   "outputs": [],
   "source": [
    "gs.run_command(\"r.in.xyz\", input=lidar_files[0], output=\"dem_1999\", method=\"mean\", separator=\"comma\")"
   ]
  },
  {
   "cell_type": "markdown",
   "id": "e53e9ae2-3291-4b70-a3da-06e217f755a8",
   "metadata": {},
   "source": [
    "For you can also compute DEMs with a higher resolution than the point sampling distance using splines with either the [v.surf.rst](https://grass.osgeo.org/grass83/manuals/v.surf.rst.html) or [v.surf.bspline](https://grass.osgeo.org/grass83/manuals/v.surf.bspline.html) tools.\n",
    "\n",
    "See Section 2.3.3 of [Hardin et al (2014)](https://link.springer.com/chapter/10.1007/978-1-4939-1835-5_2#Sec3) for more."
   ]
  },
  {
   "cell_type": "code",
   "execution_count": null,
   "id": "4e1dff38-f2fa-4540-95ef-cf4b188007fe",
   "metadata": {},
   "outputs": [],
   "source": [
    "mask = gj.Map()\n",
    "mask.d_rast(map=\"dem_1999\")\n",
    "mask.show()"
   ]
  }
 ],
 "metadata": {
  "kernelspec": {
   "display_name": "Python 3 (ipykernel)",
   "language": "python",
   "name": "python3"
  },
  "language_info": {
   "codemirror_mode": {
    "name": "ipython",
    "version": 3
   },
   "file_extension": ".py",
   "mimetype": "text/x-python",
   "name": "python",
   "nbconvert_exporter": "python",
   "pygments_lexer": "ipython3",
   "version": "3.9.5"
  }
 },
 "nbformat": 4,
 "nbformat_minor": 5
}
