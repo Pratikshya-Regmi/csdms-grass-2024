{
 "cells": [
  {
   "cell_type": "markdown",
   "id": "e6c369d0-dbda-4512-9ea8-bb00f41a98f3",
   "metadata": {
    "tags": []
   },
   "source": [
    "# Creating and Visualizing DEMs from LIDAR points\n",
    "\n",
    "_**Caitlin Haedrich and Pratikshya Regmi**, North Carolina State University_\n",
    "\n",
    "In this notebook we will:\n",
    "* Create high-quality DEMs from LiDAR point clouds and compute topographic parameters\n",
    "* Create webmap visualizations\n"
   ]
  },
  {
   "cell_type": "markdown",
   "id": "1f3ec894-315b-4ab4-b903-bd439d6ecca9",
   "metadata": {
    "tags": []
   },
   "source": [
    "## 1. Startup"
   ]
  },
  {
   "cell_type": "markdown",
   "id": "04cff3bd-1329-4b05-b4da-33df4a5b6edc",
   "metadata": {},
   "source": [
    "Import Python standard library and IPython packages we need. Start GRASS session in Nags Head project."
   ]
  },
  {
   "cell_type": "code",
   "execution_count": null,
   "id": "97b83952-fa74-4567-a5ac-242b3b32eec3",
   "metadata": {
    "tags": []
   },
   "outputs": [],
   "source": [
    "import subprocess\n",
    "import sys\n",
    "from pathlib import Path\n",
    "\n",
    "sys.path.append(\n",
    "    subprocess.check_output([\"grass\", \"--config\", \"python_path\"], text=True, shell=False).strip()\n",
    ")\n",
    "\n",
    "import grass.script as gs\n",
    "import grass.jupyter as gj\n",
    "\n",
    "gj.init(\"./nags_head/PERMANENT\");"
   ]
  },
  {
   "cell_type": "code",
   "execution_count": null,
   "id": "b38ef6ff-7dfd-4060-b8fa-977816420b27",
   "metadata": {
    "tags": []
   },
   "outputs": [],
   "source": [
    "!g.region -p"
   ]
  },
  {
   "cell_type": "markdown",
   "id": "83fcb778-3c1a-49e8-8f64-33731d729e56",
   "metadata": {},
   "source": [
    "## 3. Creating DEMs"
   ]
  },
  {
   "cell_type": "code",
   "execution_count": null,
   "id": "3ced7f10-c754-4e90-a154-e665ada0ffb1",
   "metadata": {
    "tags": []
   },
   "outputs": [],
   "source": [
    "lidar_files = sorted(Path('./data/').glob('*.las'))\n",
    "lidar_files"
   ]
  },
  {
   "cell_type": "markdown",
   "id": "af994bc2-3955-4f0b-a862-a3368024702b",
   "metadata": {},
   "source": [
    "### Mask low density areas\n",
    "\n",
    "Interpolating a DEM from LiDAR points is only meaningful where there are adequate point coverage. So, our first step will be to mask areas that have low point densities before we interpolate. This also will make our interpolation run faster!"
   ]
  },
  {
   "cell_type": "code",
   "execution_count": null,
   "id": "b1350c0a-b0ae-46a9-9d70-8b21d8111144",
   "metadata": {
    "tags": []
   },
   "outputs": [],
   "source": [
    "!g.region raster=\"naip_2020\" res=5"
   ]
  },
  {
   "cell_type": "code",
   "execution_count": null,
   "id": "f8e59307-aeb2-4c83-9527-ff05a7faf6b0",
   "metadata": {},
   "outputs": [],
   "source": [
    "gs.run_command(\"r.in.pdal\", input=\"./data/JR_2014.las\", output=\"JR_2014_raw\", method=\"n\", flags=\"w\")\n",
    "gs.mapcalc(exp=\"JR_2014_mask=if(JR_2014_raw == 0, null(), 1 )\")"
   ]
  },
  {
   "cell_type": "code",
   "execution_count": null,
   "id": "21e792ff-122c-4ed0-98d0-c8554fc165d5",
   "metadata": {},
   "outputs": [],
   "source": [
    "mask = gj.Map()\n",
    "mask.d_rast(map=\"naip_2014\")\n",
    "mask.d_rast(map=\"JR_2014_mask\")\n",
    "mask.show()"
   ]
  },
  {
   "cell_type": "code",
   "execution_count": null,
   "id": "3d7734fe-2081-4d11-929d-b03b6d1cfcf0",
   "metadata": {},
   "outputs": [],
   "source": [
    "!g.region res=0.5\n",
    "!r.mask raster=JR_2014_mask"
   ]
  },
  {
   "cell_type": "markdown",
   "id": "3d16eb35-3f35-4fd9-b910-10047c4ec147",
   "metadata": {},
   "source": [
    "### Creating DEMs with Binning"
   ]
  },
  {
   "cell_type": "code",
   "execution_count": null,
   "id": "1f119513-f823-4fec-9d03-27afe44c80d4",
   "metadata": {},
   "outputs": [],
   "source": [
    "# Binning\n",
    "!g.region res=2"
   ]
  },
  {
   "cell_type": "code",
   "execution_count": null,
   "id": "eaed0a3a-cfe5-41f0-b9a9-6df3a473974e",
   "metadata": {},
   "outputs": [],
   "source": [
    "gs.run_command(\"r.in.pdal\", input=\"./data/JR_2014.las\", output=\"JR_2014\", method=\"mean\", flags=\"w\")"
   ]
  },
  {
   "cell_type": "code",
   "execution_count": null,
   "id": "48f92bc1-a070-4d9c-b210-f262b99123e3",
   "metadata": {},
   "outputs": [],
   "source": [
    "!r.mask -r"
   ]
  },
  {
   "cell_type": "markdown",
   "id": "e53e9ae2-3291-4b70-a3da-06e217f755a8",
   "metadata": {},
   "source": [
    "For you can also compute DEMs with a higher resolution than the point sampling distance using splines with either the [v.surf.rst](https://grass.osgeo.org/grass83/manuals/v.surf.rst.html) or [v.surf.bspline](https://grass.osgeo.org/grass83/manuals/v.surf.bspline.html) tools.\n",
    "\n",
    "See Section 2.3.3 of [Hardin et al (2014)](https://link.springer.com/chapter/10.1007/978-1-4939-1835-5_2#Sec3) for more."
   ]
  },
  {
   "cell_type": "code",
   "execution_count": null,
   "id": "4e1dff38-f2fa-4540-95ef-cf4b188007fe",
   "metadata": {},
   "outputs": [],
   "source": [
    "elev = gj.Map()\n",
    "elev.d_rast(map=\"naip_2014\")\n",
    "elev.d_rast(map=\"JR_2014\")\n",
    "elev.show()"
   ]
  },
  {
   "cell_type": "code",
   "execution_count": null,
   "id": "7623d985-e517-469a-82b9-d7b93c823928",
   "metadata": {},
   "outputs": [],
   "source": [
    "fig = gj.InteractiveMap(width=800)\n",
    "fig.add_raster(\"naip_2014\")\n",
    "fig.add_raster(\"JR_2014\")\n",
    "fig.add_layer_control()\n",
    "fig.show()"
   ]
  },
  {
   "cell_type": "code",
   "execution_count": null,
   "id": "555e6aef-0e4f-43fd-bff9-eb97f0873208",
   "metadata": {},
   "outputs": [],
   "source": []
  }
 ],
 "metadata": {
  "kernelspec": {
   "display_name": "Python 3 (ipykernel)",
   "language": "python",
   "name": "python3"
  },
  "language_info": {
   "codemirror_mode": {
    "name": "ipython",
    "version": 3
   },
   "file_extension": ".py",
   "mimetype": "text/x-python",
   "name": "python",
   "nbconvert_exporter": "python",
   "pygments_lexer": "ipython3",
   "version": "3.8.10"
  }
 },
 "nbformat": 4,
 "nbformat_minor": 5
}
