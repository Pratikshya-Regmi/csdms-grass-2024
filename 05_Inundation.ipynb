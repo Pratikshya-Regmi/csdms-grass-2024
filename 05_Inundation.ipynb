{
 "cells": [
  {
   "cell_type": "markdown",
   "id": "d68f2fba-4337-4766-a4db-19498a16a0fa",
   "metadata": {},
   "source": [
    "Notebook 5: Simple Inundation Modeling\n",
    "Generating simplified storm surge inundation timeseries\n"
   ]
  },
  {
   "cell_type": "code",
   "execution_count": null,
   "id": "2f07527e-42d2-4e6c-9244-d01456e1474c",
   "metadata": {},
   "outputs": [],
   "source": [
    "https://baharmon.github.io/flooding-in-grass\n",
    "https://github.com/ncsu-geoforall-lab/grass-gis-workshop-foss4gna-2023/blob/main/workshop_part_5_inundation.ipynb"
   ]
  },
  {
   "cell_type": "code",
   "execution_count": null,
   "id": "82280303-87dc-47b7-9a0d-395225307c26",
   "metadata": {},
   "outputs": [],
   "source": [
    "g.extension extension=r.lake.series\n",
    "r.lake.series elevation=topobathy output=flooding start_water_level=6 end_water_level=14 water_level_step=0.1 coordinates=976989.514944,189704.054385\n",
    "g.gui.animation strds=flooding"
   ]
  }
 ],
 "metadata": {
  "kernelspec": {
   "display_name": "Python 3 (ipykernel)",
   "language": "python",
   "name": "python3"
  },
  "language_info": {
   "codemirror_mode": {
    "name": "ipython",
    "version": 3
   },
   "file_extension": ".py",
   "mimetype": "text/x-python",
   "name": "python",
   "nbconvert_exporter": "python",
   "pygments_lexer": "ipython3",
   "version": "3.8.10"
  }
 },
 "nbformat": 4,
 "nbformat_minor": 5
}
