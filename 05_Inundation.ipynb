{
 "cells": [
  {
   "cell_type": "markdown",
   "id": "1d973d6b-5ac1-47c5-b5dd-bb16e7fd672e",
   "metadata": {},
   "source": [
    "# Simple Storm Surge Inundation Modeling\n",
    "\n",
    "_**Caitlin Haedrich and Pratikshya Regmi**, North Carolina State University_\n",
    "\n",
    "\n",
    "In this example we will use some of GRASS GIS hydrology tools, namely:\n",
    "\n",
    "* [r.lake](https://grass.osgeo.org/grass-stable/manuals/r.lake.html): to fill a lake to a target water level from a given start point or seed raster\n",
    "* [r.lake.series](https://grass.osgeo.org/grass-stable/manuals/r.lake.series.html): addon which runs r.lake for different water levels\n"
   ]
  },
  {
   "cell_type": "code",
   "execution_count": null,
   "id": "4aaaa1c1-d0a9-4986-bfc5-9d8196289289",
   "metadata": {
    "tags": []
   },
   "outputs": [],
   "source": [
    "# Import Python standard library and IPython packages we need.\n",
    "import subprocess\n",
    "import sys\n",
    "\n",
    "# Ask GRASS GIS where its Python packages are.\n",
    "sys.path.append(\n",
    "    subprocess.check_output([\"grass\", \"--config\", \"python_path\"], text=True).strip()\n",
    ")\n",
    "\n",
    "# Import the GRASS GIS packages we need.\n",
    "import grass.script as gs\n",
    "import grass.jupyter as gj\n",
    "\n",
    "# Start GRASS Session\n",
    "gj.init(\"nags_head/PERMANENT\");\n",
    "# gj.init(\"nags_head/flooding\");"
   ]
  },
  {
   "cell_type": "code",
   "execution_count": null,
   "id": "e122963c-85eb-4637-9f55-3cb5f1754aaa",
   "metadata": {
    "tags": []
   },
   "outputs": [],
   "source": [
    "# Make a new mapset for this part\n",
    "gs.run_command(\"g.mapset\", mapset=\"flooding\", location=\"nags_head\", flags=\"c\")"
   ]
  },
  {
   "cell_type": "code",
   "execution_count": null,
   "id": "23fccb4a-0b73-4b65-a3bd-9e9fd6876a6b",
   "metadata": {
    "tags": []
   },
   "outputs": [],
   "source": [
    "!g.region region=jockeys_ridge w=w+1200 -p"
   ]
  },
  {
   "cell_type": "code",
   "execution_count": null,
   "id": "1963dbbe-6e52-48da-9ad4-68d382a343c7",
   "metadata": {
    "tags": []
   },
   "outputs": [],
   "source": [
    "!g.extension extension=r.lake.series"
   ]
  },
  {
   "cell_type": "code",
   "execution_count": null,
   "id": "813a8f9f-251b-4256-a205-8302169a5312",
   "metadata": {
    "tags": []
   },
   "outputs": [],
   "source": [
    "flood1 = gj.Map(use_region=True)\n",
    "flood1.d_rast(map=\"JR_2014\")\n",
    "flood1.show()"
   ]
  },
  {
   "cell_type": "code",
   "execution_count": null,
   "id": "00594fc2-8494-4f3b-8981-b05afcdc4494",
   "metadata": {
    "tags": []
   },
   "outputs": [],
   "source": [
    "!r.neighbors input=JR_2014 output=JR_2014_filled method=average size=9\n",
    "\n",
    "!r.mapcalc \"JR_2014_filled_bath = if(isnull(JR_2014_filled), -5.0, JR_2014_filled)\""
   ]
  },
  {
   "cell_type": "code",
   "execution_count": null,
   "id": "52ca3a8c-e5c9-4339-8a2d-4a52225d4dd9",
   "metadata": {
    "tags": []
   },
   "outputs": [],
   "source": [
    "!r.colors map=JR_2014_filled_bath color=elevation\n",
    "\n",
    "flood1 = gj.Map()\n",
    "flood1.d_rast(map=\"JR_2014_filled_bath\")\n",
    "flood1.show()"
   ]
  },
  {
   "cell_type": "code",
   "execution_count": null,
   "id": "331e1de9-7fcb-4604-8bca-d2456710d87f",
   "metadata": {
    "tags": []
   },
   "outputs": [],
   "source": [
    "fill_point = \"914151,250381\"\n",
    "\n",
    "gs.write_command(\"v.in.ascii\", input=\"-\", output=\"fill_point\", separator=\"comma\", stdin=fill_point)"
   ]
  },
  {
   "cell_type": "code",
   "execution_count": null,
   "id": "f977b853-4fdb-4a42-835a-6d920546afbf",
   "metadata": {
    "tags": []
   },
   "outputs": [],
   "source": [
    "flood1 = gj.Map()\n",
    "flood1.d_rast(map=\"JR_2014_filled_bath\")\n",
    "flood1.d_vect(map=\"fill_point\", icon=\"basic/pin\", size=20, fill_color=\"red\")\n",
    "flood1.show()"
   ]
  },
  {
   "cell_type": "code",
   "execution_count": null,
   "id": "4f8e67c8-2893-4c05-a45d-3a10ac53e619",
   "metadata": {
    "tags": []
   },
   "outputs": [],
   "source": [
    "gs.run_command(\"r.lake.series\",\n",
    "                elevation=\"JR_2014_filled_bath\",\n",
    "                output=\"flooding\",\n",
    "                start_water_level=3.0,\n",
    "                end_water_level=4.0,\n",
    "                water_level_step=0.25,\n",
    "                coordinates=fill_point\n",
    "              )"
   ]
  },
  {
   "cell_type": "code",
   "execution_count": null,
   "id": "5520509f-faaf-4a3b-b99f-b4cb63c460a6",
   "metadata": {
    "tags": []
   },
   "outputs": [],
   "source": [
    "from io import StringIO\n",
    "import pandas as pd\n",
    "\n",
    "pd.read_csv(StringIO(gs.read_command(\"t.rast.list\", input=\"flooding\", separator=\"comma\")))"
   ]
  },
  {
   "cell_type": "markdown",
   "id": "bc395ff6-e0fa-4e5b-887f-73df539f46b1",
   "metadata": {},
   "source": [
    "r.lake.series creates a space-time dataset. We can use the [temporal modules](https://grass.osgeo.org/grass-stable/manuals/temporal.html) to further work with the data."
   ]
  },
  {
   "cell_type": "markdown",
   "id": "af541eac-3a46-4cb6-ba8d-6c3a59c3d084",
   "metadata": {},
   "source": [
    "Let's visualize the results:"
   ]
  },
  {
   "cell_type": "code",
   "execution_count": null,
   "id": "ce0b667a-1131-4f6c-8b74-2b930e183e8e",
   "metadata": {
    "tags": []
   },
   "outputs": [],
   "source": [
    "flood1 = gj.Map()\n",
    "flood1.d_rast(map=\"flooding_4.0\")\n",
    "flood1.show()"
   ]
  },
  {
   "cell_type": "code",
   "execution_count": null,
   "id": "da231b83-3b86-43c9-ad01-ed73bf600932",
   "metadata": {
    "tags": []
   },
   "outputs": [],
   "source": [
    "!r.relief input=JR_2014_filled_bath output=JR_2014_shade"
   ]
  },
  {
   "cell_type": "code",
   "execution_count": null,
   "id": "bafcf144-7c5a-4cf7-93b8-20c6a17dbaeb",
   "metadata": {
    "tags": []
   },
   "outputs": [],
   "source": [
    "gs.run_command(\"t.rast.colors\", input=\"flooding\", color=\"water\")\n",
    "\n",
    "timemap = gj.TimeSeriesMap()\n",
    "timemap.d_rast(map=\"JR_2014_shade\")\n",
    "timemap.add_raster_series(\"flooding\")\n",
    "timemap.d_legend(at=(1, 40, 90, 95))\n",
    "#timemap.show() "
   ]
  },
  {
   "cell_type": "code",
   "execution_count": null,
   "id": "9f268ab4-a3bf-472b-93e6-8af5b39b05d5",
   "metadata": {
    "tags": []
   },
   "outputs": [],
   "source": [
    "timemap.save(filename=\"flood.gif\");"
   ]
  },
  {
   "cell_type": "code",
   "execution_count": null,
   "id": "ac93b731-c6e2-4212-8c91-02c3a0aa2576",
   "metadata": {
    "tags": []
   },
   "outputs": [],
   "source": [
    "from IPython.display import display, Image\n",
    "\n",
    "display(Image(filename=\"flood.gif\"))"
   ]
  },
  {
   "cell_type": "code",
   "execution_count": null,
   "id": "366d563e-d7c3-40a7-9bd8-249253519a21",
   "metadata": {},
   "outputs": [],
   "source": []
  }
 ],
 "metadata": {
  "kernelspec": {
   "display_name": "GRASS GIS",
   "language": "python",
   "name": "grass"
  },
  "language_info": {
   "codemirror_mode": {
    "name": "ipython",
    "version": 3
   },
   "file_extension": ".py",
   "mimetype": "text/x-python",
   "name": "python",
   "nbconvert_exporter": "python",
   "pygments_lexer": "ipython3",
   "version": "3.12.2"
  }
 },
 "nbformat": 4,
 "nbformat_minor": 5
}
